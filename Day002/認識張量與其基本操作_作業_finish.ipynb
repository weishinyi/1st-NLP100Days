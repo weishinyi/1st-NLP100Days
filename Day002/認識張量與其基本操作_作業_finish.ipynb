{
 "cells": [
  {
   "cell_type": "markdown",
   "metadata": {},
   "source": [
    "### 作業目的: 更加熟習pytorch的tensor操作\n",
    "\n",
    "pytorch中有提供很多的API，讓使用者針對tensor進行各式各樣的操作，本次的作業希望讀者由pytorch的[官方網站](https://pytorch.org/docs/stable/torch.html)中選定四個針對tensor操作的API，對他的使用方法進行範例操作演練。"
   ]
  },
  {
   "cell_type": "markdown",
   "metadata": {},
   "source": [
    "### 選定的API 函數\n",
    "\n",
    "**請寫下選定的API functions**\n",
    "\n",
    "ex:\n",
    "* torch.from_array() / tensor.numpy()\n",
    "* torch.unsqueeze() / torch.squeeze()\n",
    "* tensor.transpose() / tensor.permute()\n",
    "* torch.reshape() / tensor.view()"
   ]
  },
  {
   "cell_type": "code",
   "execution_count": 1,
   "metadata": {},
   "outputs": [],
   "source": [
    "# Import torch and other required modules\n",
    "import torch\n",
    "import numpy as np"
   ]
  },
  {
   "cell_type": "markdown",
   "metadata": {},
   "source": [
    "### 範例:\n",
    "### Function 1 - torch.from_array() / tensor.numpy()"
   ]
  },
  {
   "cell_type": "code",
   "execution_count": 2,
   "metadata": {},
   "outputs": [
    {
     "name": "stdout",
     "output_type": "stream",
     "text": [
      "a: <class 'numpy.ndarray'>, float64\n",
      "b: <class 'torch.Tensor'>, torch.float64\n",
      "c: <class 'torch.Tensor'>, torch.float64\n",
      "d: <class 'numpy.ndarray'>, float64\n"
     ]
    }
   ],
   "source": [
    "# Example 1 - 將torch tensor與numpy ndarray互相轉換\n",
    "a = np.random.rand(1,2,3,3)\n",
    "print(f'a: {type(a)}, {a.dtype}')\n",
    "b = torch.from_numpy(a)\n",
    "print(f'b: {type(b)}, {b.dtype}')\n",
    "c = torch.tensor(a)\n",
    "print(f'c: {type(c)}, {c.dtype}')\n",
    "d = c.numpy()\n",
    "print(f'd: {type(d)}, {d.dtype}')"
   ]
  },
  {
   "cell_type": "code",
   "execution_count": 3,
   "metadata": {},
   "outputs": [
    {
     "name": "stdout",
     "output_type": "stream",
     "text": [
      "a: <class 'numpy.ndarray'>, int32\n",
      "b: <class 'torch.Tensor'>, torch.int32\n",
      "c: <class 'torch.Tensor'>, torch.int32\n",
      "d: <class 'numpy.ndarray'>, int32\n"
     ]
    }
   ],
   "source": [
    "# Example 2 - 經過轉換後，torch tensor與numpy array依然有相近的資料型態\n",
    "a = np.random.randint(low=0, high=10, size=(2,2))\n",
    "print(f'a: {type(a)}, {a.dtype}')\n",
    "b = torch.from_numpy(a)\n",
    "print(f'b: {type(b)}, {b.dtype}')\n",
    "c = torch.tensor(a)\n",
    "print(f'c: {type(c)}, {c.dtype}')\n",
    "d = c.numpy()\n",
    "print(f'd: {type(d)}, {d.dtype}')"
   ]
  },
  {
   "cell_type": "markdown",
   "metadata": {},
   "source": [
    "### Function 1 - torch.from_array() / tensor.numpy()"
   ]
  },
  {
   "cell_type": "code",
   "execution_count": 4,
   "metadata": {},
   "outputs": [
    {
     "name": "stdout",
     "output_type": "stream",
     "text": [
      "a type: <class 'torch.Tensor'>\n",
      "b type: <class 'numpy.ndarray'>\n"
     ]
    }
   ],
   "source": [
    "# Example 1 - 將torch tensor轉成numpy ndarray\n",
    "a = torch.randint(low=0, high=10, size=(3,4))\n",
    "print('a type:',type(a))\n",
    "\n",
    "b = a.numpy()\n",
    "print('b type:',type(b))\n"
   ]
  },
  {
   "cell_type": "code",
   "execution_count": 5,
   "metadata": {},
   "outputs": [
    {
     "name": "stdout",
     "output_type": "stream",
     "text": [
      "a type: <class 'numpy.ndarray'>\n",
      "b type: <class 'torch.Tensor'>\n"
     ]
    }
   ],
   "source": [
    "# Example 2 - 將 numpy ndarray轉成torch tensor\n",
    "a = np.random.randint(low=0, high=10, size=(3,4))\n",
    "print('a type:',type(a))\n",
    "\n",
    "b = torch.from_numpy(a)\n",
    "print('b type:',type(b))"
   ]
  },
  {
   "cell_type": "markdown",
   "metadata": {},
   "source": [
    "### Function 2 - torch.unsqueeze() / torch.squeeze()"
   ]
  },
  {
   "cell_type": "code",
   "execution_count": 6,
   "metadata": {},
   "outputs": [
    {
     "name": "stdout",
     "output_type": "stream",
     "text": [
      "torch.Size([2, 2, 3])\n",
      "torch.Size([1, 2, 2, 3])\n"
     ]
    }
   ],
   "source": [
    "# Example 1 - 擴充tensor維度\n",
    "a = torch.randint(low=0, high=10, size=(2,2,3))\n",
    "print(a.shape)\n",
    "\n",
    "b = torch.unsqueeze(a, dim=0) #增加維度在1的位置\n",
    "print(b.shape)"
   ]
  },
  {
   "cell_type": "code",
   "execution_count": 7,
   "metadata": {},
   "outputs": [
    {
     "name": "stdout",
     "output_type": "stream",
     "text": [
      "torch.Size([1, 5, 5, 3])\n",
      "torch.Size([5, 5, 3])\n"
     ]
    }
   ],
   "source": [
    "# Example 2 - 縮減tensor維度\n",
    "a = torch.randint(low=0, high=10, size=(1,5,5,3))\n",
    "print(a.shape)\n",
    "b = torch.squeeze(a, dim=0) #壓縮為度為1的位置\n",
    "print(b.shape)"
   ]
  },
  {
   "cell_type": "markdown",
   "metadata": {},
   "source": [
    "### Function 3 - tensor.transpose() / tensor.permute()"
   ]
  },
  {
   "cell_type": "code",
   "execution_count": 8,
   "metadata": {},
   "outputs": [
    {
     "name": "stdout",
     "output_type": "stream",
     "text": [
      "torch.Size([1, 2, 3])\n",
      "torch.Size([1, 3, 2])\n",
      "torch.Size([1, 3, 2])\n"
     ]
    }
   ],
   "source": [
    "# Example 1 - 調換tensor維度\n",
    "a = torch.randint(low=0, high=10, size=(1,2,3))\n",
    "print(a.shape)\n",
    "\n",
    "b = a.permute((0, 2, 1))\n",
    "print(b.shape)\n",
    "\n",
    "c = a.transpose(1,2)\n",
    "print(c.shape)"
   ]
  },
  {
   "cell_type": "code",
   "execution_count": 9,
   "metadata": {},
   "outputs": [
    {
     "name": "stdout",
     "output_type": "stream",
     "text": [
      "torch.Size([1, 2, 3])\n",
      "torch.int64\n",
      "torch.Size([1, 3, 2])\n",
      "torch.int64\n",
      "torch.Size([1, 3, 2])\n",
      "torch.int64\n"
     ]
    }
   ],
   "source": [
    "# Example 2 - 調換tensor維度不影響資料型態\n",
    "a = torch.randint(low=0, high=10, size=(1,2,3))\n",
    "print(a.shape)\n",
    "print(a.dtype)\n",
    "\n",
    "b = a.permute((0, 2, 1))\n",
    "print(b.shape)\n",
    "print(b.dtype)\n",
    "\n",
    "c = a.transpose(1,2)\n",
    "print(c.shape)\n",
    "print(c.dtype)"
   ]
  },
  {
   "cell_type": "markdown",
   "metadata": {},
   "source": [
    "### Function 4 - torch.reshape() / tensor.view()"
   ]
  },
  {
   "cell_type": "code",
   "execution_count": 10,
   "metadata": {},
   "outputs": [
    {
     "name": "stdout",
     "output_type": "stream",
     "text": [
      "torch.Size([2, 2, 3])\n",
      "a: tensor([[[1, 4, 5],\n",
      "         [8, 5, 6]],\n",
      "\n",
      "        [[8, 4, 3],\n",
      "         [1, 3, 2]]])\n",
      "torch.Size([2, 6])\n",
      "b: tensor([[1, 4, 5, 8, 5, 6],\n",
      "        [8, 4, 3, 1, 3, 2]])\n",
      "torch.Size([2, 6])\n",
      "c: tensor([[1, 4, 5, 8, 5, 6],\n",
      "        [8, 4, 3, 1, 3, 2]])\n",
      "torch.Size([2, 6])\n",
      "d: tensor([[1, 4, 5, 8, 5, 6],\n",
      "        [8, 4, 3, 1, 3, 2]])\n"
     ]
    }
   ],
   "source": [
    "# Example 1 - ### 將tensor形狀由[2,2,3]改為[2,6]\n",
    "a = torch.randint(low=0, high=10, size=(2,2,3))\n",
    "print(a.shape)\n",
    "print('a:',a)\n",
    "\n",
    "b = a.reshape(2, 6)\n",
    "print(b.shape)\n",
    "print('b:',b)\n",
    "\n",
    "c = a.view(2, 6)\n",
    "print(c.shape)\n",
    "print('c:',c)\n",
    "\n",
    "d = a.reshape(2, -1)\n",
    "print(d.shape)\n",
    "print('d:',d)"
   ]
  },
  {
   "cell_type": "code",
   "execution_count": 11,
   "metadata": {},
   "outputs": [
    {
     "name": "stdout",
     "output_type": "stream",
     "text": [
      "torch.Size([2, 2, 3])\n",
      "a.dtype: torch.int64\n",
      "torch.Size([2, 6])\n",
      "b.dtype: torch.int64\n",
      "torch.Size([2, 6])\n",
      "c.dtype: torch.int64\n",
      "torch.Size([2, 6])\n",
      "d.dtype: torch.int64\n"
     ]
    }
   ],
   "source": [
    "# Example 2 - tensor形狀改變不影響資料型態\n",
    "a = torch.randint(low=0, high=10, size=(2,2,3))\n",
    "print(a.shape)\n",
    "print('a.dtype:',a.dtype)\n",
    "\n",
    "b = a.reshape(2, 6)\n",
    "print(b.shape)\n",
    "print('b.dtype:',b.dtype)\n",
    "\n",
    "c = a.view(2, 6)\n",
    "print(c.shape)\n",
    "print('c.dtype:',c.dtype)\n",
    "\n",
    "d = a.reshape(2, -1)\n",
    "print(d.shape)\n",
    "print('d.dtype:',d.dtype)"
   ]
  }
 ],
 "metadata": {
  "kernelspec": {
   "display_name": "Python 3",
   "language": "python",
   "name": "python3"
  },
  "language_info": {
   "codemirror_mode": {
    "name": "ipython",
    "version": 3
   },
   "file_extension": ".py",
   "mimetype": "text/x-python",
   "name": "python",
   "nbconvert_exporter": "python",
   "pygments_lexer": "ipython3",
   "version": "3.8.5"
  }
 },
 "nbformat": 4,
 "nbformat_minor": 2
}
